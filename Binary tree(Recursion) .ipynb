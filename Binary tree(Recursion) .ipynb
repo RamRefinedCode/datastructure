{
 "cells": [
  {
   "cell_type": "code",
   "execution_count": 70,
   "id": "986daf3d",
   "metadata": {},
   "outputs": [],
   "source": [
    "class Node:\n",
    "    def __init__(self, value):\n",
    "        self.value = value\n",
    "        self.left = None\n",
    "        self.right = None\n",
    "\n",
    "class Binarytreerecursive:\n",
    "    def __init__(self):\n",
    "        self.root = None\n",
    "    \n",
    "    def r_insert(self, value):\n",
    "        if self.root is None:\n",
    "            self.root = Node(value)\n",
    "        self._r_insert(self.root, value)\n",
    "   \n",
    "    def _r_insert(self, current_node, value):\n",
    "        if current_node is None:\n",
    "            return Node(value)\n",
    "        if value < current_node.value:\n",
    "            current_node.left = self._r_insert(current_node.left, value)\n",
    "        if value > current_node.value:\n",
    "            current_node.right = self._r_insert(current_node.right, value)\n",
    "        return current_node"
   ]
  },
  {
   "cell_type": "code",
   "execution_count": 71,
   "id": "18298b65",
   "metadata": {},
   "outputs": [],
   "source": [
    "binary_search = Binarytreerecursive()"
   ]
  },
  {
   "cell_type": "code",
   "execution_count": 72,
   "id": "c2b9aa4a",
   "metadata": {},
   "outputs": [],
   "source": [
    "binary_search.r_insert(2)\n",
    "binary_search.r_insert(1)\n",
    "binary_search.r_insert(3)"
   ]
  },
  {
   "cell_type": "code",
   "execution_count": null,
   "id": "6e52c519",
   "metadata": {},
   "outputs": [],
   "source": []
  },
  {
   "cell_type": "code",
   "execution_count": null,
   "id": "40686e39",
   "metadata": {},
   "outputs": [],
   "source": []
  }
 ],
 "metadata": {
  "kernelspec": {
   "display_name": "Python 3 (ipykernel)",
   "language": "python",
   "name": "python3"
  },
  "language_info": {
   "codemirror_mode": {
    "name": "ipython",
    "version": 3
   },
   "file_extension": ".py",
   "mimetype": "text/x-python",
   "name": "python",
   "nbconvert_exporter": "python",
   "pygments_lexer": "ipython3",
   "version": "3.9.13"
  }
 },
 "nbformat": 4,
 "nbformat_minor": 5
}
