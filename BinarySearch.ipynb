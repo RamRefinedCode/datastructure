{
 "cells": [
  {
   "cell_type": "code",
   "execution_count": 8,
   "id": "c598fc46",
   "metadata": {},
   "outputs": [
    {
     "name": "stdout",
     "output_type": "stream",
     "text": [
      "Element 7 is present at index 6.\n"
     ]
    }
   ],
   "source": [
    "def binary_search(arr, target):\n",
    "    low, high = 0, len(arr) - 1\n",
    "\n",
    "    while low <= high:\n",
    "        mid = (low + high) // 2 \n",
    "        if arr[mid] == target:\n",
    "            return mid \n",
    "        elif arr[mid] > target:\n",
    "            high = mid - 1\n",
    "        else:\n",
    "            low = mid + 1\n",
    "    return -1\n",
    "\n",
    "sorted_array = [1, 2, 3, 4, 5, 6, 7, 8, 9, 10]\n",
    "target_element = 7\n",
    "\n",
    "result = binary_search(sorted_array, target_element)\n",
    "\n",
    "if result != -1:\n",
    "    print(f\"Element {target_element} is present at index {result}.\")\n",
    "else:\n",
    "    print(f\"Element {target_element} is not present in the array.\")"
   ]
  },
  {
   "cell_type": "code",
   "execution_count": null,
   "id": "74408ef6",
   "metadata": {},
   "outputs": [],
   "source": []
  },
  {
   "cell_type": "code",
   "execution_count": null,
   "id": "39090ce3",
   "metadata": {},
   "outputs": [],
   "source": []
  }
 ],
 "metadata": {
  "kernelspec": {
   "display_name": "Python 3 (ipykernel)",
   "language": "python",
   "name": "python3"
  },
  "language_info": {
   "codemirror_mode": {
    "name": "ipython",
    "version": 3
   },
   "file_extension": ".py",
   "mimetype": "text/x-python",
   "name": "python",
   "nbconvert_exporter": "python",
   "pygments_lexer": "ipython3",
   "version": "3.9.13"
  }
 },
 "nbformat": 4,
 "nbformat_minor": 5
}
