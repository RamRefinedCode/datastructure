{
 "cells": [
  {
   "cell_type": "code",
   "execution_count": 1,
   "id": "fe70659a",
   "metadata": {},
   "outputs": [
    {
     "name": "stdout",
     "output_type": "stream",
     "text": [
      "Sorted list: [11, 12, 22, 25, 34, 64, 90]\n"
     ]
    }
   ],
   "source": [
    "def bubble_sort(lst):\n",
    "    n = len(lst)\n",
    "    for i in range(n):\n",
    "        for j in range(0, n-i-1):\n",
    "            if lst[j] > lst[j+1]:\n",
    "                lst[j], lst[j+1] = lst[j+1], lst[j]\n",
    "\n",
    "my_list = [64, 34, 25, 12, 22, 11, 90]\n",
    "bubble_sort(my_list)\n",
    "\n",
    "print(\"Sorted list:\", my_list)"
   ]
  },
  {
   "cell_type": "code",
   "execution_count": null,
   "id": "b8aa1290",
   "metadata": {},
   "outputs": [],
   "source": []
  },
  {
   "cell_type": "code",
   "execution_count": null,
   "id": "f10fd5f5",
   "metadata": {},
   "outputs": [],
   "source": []
  }
 ],
 "metadata": {
  "kernelspec": {
   "display_name": "Python 3 (ipykernel)",
   "language": "python",
   "name": "python3"
  },
  "language_info": {
   "codemirror_mode": {
    "name": "ipython",
    "version": 3
   },
   "file_extension": ".py",
   "mimetype": "text/x-python",
   "name": "python",
   "nbconvert_exporter": "python",
   "pygments_lexer": "ipython3",
   "version": "3.9.13"
  }
 },
 "nbformat": 4,
 "nbformat_minor": 5
}
