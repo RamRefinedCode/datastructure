{
 "cells": [
  {
   "cell_type": "code",
   "execution_count": 9,
   "id": "a4d4c6f4",
   "metadata": {},
   "outputs": [],
   "source": [
    "def reverse_array(array):\n",
    "    length = len(array)\n",
    "    for i in range(length//2):\n",
    "        array[i],array[length-1-i] = array[length-1-i],array[i]\n",
    "    return array    "
   ]
  },
  {
   "cell_type": "code",
   "execution_count": 12,
   "id": "fcae32c5",
   "metadata": {},
   "outputs": [
    {
     "data": {
      "text/plain": [
       "[6, 5, 4, 3, 2, 1]"
      ]
     },
     "execution_count": 12,
     "metadata": {},
     "output_type": "execute_result"
    }
   ],
   "source": [
    "reverse_array(array=[1,2,3,4,5,6])"
   ]
  },
  {
   "cell_type": "code",
   "execution_count": 14,
   "id": "33410ae3",
   "metadata": {},
   "outputs": [
    {
     "data": {
      "text/plain": [
       "[6, 5, 4, 3, 2, 1]"
      ]
     },
     "execution_count": 14,
     "metadata": {},
     "output_type": "execute_result"
    }
   ],
   "source": [
    "reversearray = [1,2,3,4,5,6]\n",
    "reversearray[::-1]"
   ]
  },
  {
   "cell_type": "code",
   "execution_count": 16,
   "id": "031cc2d3",
   "metadata": {},
   "outputs": [
    {
     "name": "stdout",
     "output_type": "stream",
     "text": [
      "[6, 5, 4, 3, 2, 1]\n"
     ]
    }
   ],
   "source": [
    "reverse = []\n",
    "for i in range(len(reversearray)-1,-1,-1):\n",
    "    reverse.append(reversearray[i])\n",
    "print(reverse)   "
   ]
  },
  {
   "cell_type": "code",
   "execution_count": 20,
   "id": "2e7cfd14",
   "metadata": {},
   "outputs": [
    {
     "name": "stdout",
     "output_type": "stream",
     "text": [
      "[6, 5, 4, 3, 2, 1]\n"
     ]
    }
   ],
   "source": [
    "reverse1 = []\n",
    "for i in reversed(reversearray):\n",
    "    reverse1.append(i)\n",
    "print(reverse1)    "
   ]
  },
  {
   "cell_type": "code",
   "execution_count": 3,
   "id": "21e9d0c1",
   "metadata": {},
   "outputs": [],
   "source": [
    "#String Reverse"
   ]
  },
  {
   "cell_type": "code",
   "execution_count": 1,
   "id": "30a28b12",
   "metadata": {},
   "outputs": [
    {
     "name": "stdout",
     "output_type": "stream",
     "text": [
      "egaugnalnohtyp\n"
     ]
    }
   ],
   "source": [
    "original_string = 'pythonlanguage'\n",
    "reverse_string  = ''\n",
    "for char in original_string:\n",
    "    reverse_string = char + reverse_string\n",
    "print(reverse_string)    "
   ]
  },
  {
   "cell_type": "code",
   "execution_count": 2,
   "id": "1c812534",
   "metadata": {},
   "outputs": [
    {
     "name": "stdout",
     "output_type": "stream",
     "text": [
      "egaugnalnohtyp\n"
     ]
    }
   ],
   "source": [
    "new = ''\n",
    "for char in reversed(original_string):\n",
    "    new = new + char\n",
    "print(new)    "
   ]
  },
  {
   "cell_type": "code",
   "execution_count": 4,
   "id": "e456a84f",
   "metadata": {},
   "outputs": [
    {
     "name": "stdout",
     "output_type": "stream",
     "text": [
      "Program 1 time: 0.005255099999999402\n",
      "Program 2 time: 0.0023594000000457527\n",
      "Program 2 is faster.\n"
     ]
    }
   ],
   "source": [
    "import timeit\n",
    "\n",
    "def reverse_string1(original_string ='pythonlanguage'):\n",
    "    reverse_string  = ''\n",
    "    for char in original_string:\n",
    "        reverse_string = char + reverse_string\n",
    "    return reverse_string    \n",
    "\n",
    "    \n",
    "def reverse_string2(original_string ='pythonlanguage'):\n",
    "    new = ''\n",
    "    for char in reversed(original_string):\n",
    "        new = new + char\n",
    "    return new  \n",
    "\n",
    "\n",
    "time1 = timeit.timeit(reverse_string1, number=1000)\n",
    "\n",
    "time2 = timeit.timeit(reverse_string2, number=1000)  \n",
    "\n",
    "print(\"Program 1 time:\", time1)\n",
    "print(\"Program 2 time:\", time2)\n",
    "\n",
    "# Compare the execution times\n",
    "if time1 < time2:\n",
    "    print(\"Program 1 is faster.\")\n",
    "elif time1 > time2:\n",
    "    print(\"Program 2 is faster.\")\n",
    "else:\n",
    "    print(\"Both programs have similar execution times.\")"
   ]
  },
  {
   "cell_type": "code",
   "execution_count": null,
   "id": "5d93fcee",
   "metadata": {},
   "outputs": [],
   "source": []
  }
 ],
 "metadata": {
  "kernelspec": {
   "display_name": "Python 3 (ipykernel)",
   "language": "python",
   "name": "python3"
  },
  "language_info": {
   "codemirror_mode": {
    "name": "ipython",
    "version": 3
   },
   "file_extension": ".py",
   "mimetype": "text/x-python",
   "name": "python",
   "nbconvert_exporter": "python",
   "pygments_lexer": "ipython3",
   "version": "3.9.13"
  }
 },
 "nbformat": 4,
 "nbformat_minor": 5
}
