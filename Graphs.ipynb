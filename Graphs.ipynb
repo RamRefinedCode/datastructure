{
 "cells": [
  {
   "cell_type": "code",
   "execution_count": 209,
   "id": "3b2f966e",
   "metadata": {},
   "outputs": [],
   "source": [
    "class Graph:\n",
    "    def __init__(self):\n",
    "        self.adj_lis = {}\n",
    "        \n",
    "    def print_graph(self):\n",
    "        for vertex in self.adj_lis:\n",
    "            print(vertex,':',self.adj_lis[vertex])        \n",
    "    \n",
    "    def add_vertex(self,vertex):\n",
    "        if vertex not in self.adj_lis.keys():\n",
    "            self.adj_lis[vertex] = []\n",
    "            return True\n",
    "        return False\n",
    "   \n",
    "    def add_edges(self,v1,v2):\n",
    "        if v1 in self.adj_lis.keys() and v2 in self.adj_lis.keys():\n",
    "            self.adj_lis[v1].append(v2)\n",
    "            self.adj_lis[v2].append(v1)\n",
    "            return True\n",
    "        return False\n",
    "    \n",
    "    def remove_edges(self,v1,v2):\n",
    "        if v1 in self.adj_lis.keys() and v2 in self.adj_lis.keys():\n",
    "            try:\n",
    "                self.adj_lis[v1].remove(v2)\n",
    "                self.adj_lis[v2].remove(v1)\n",
    "            except ValueError:\n",
    "                pass\n",
    "            return True\n",
    "        return False"
   ]
  },
  {
   "cell_type": "code",
   "execution_count": 210,
   "id": "f525ca9a",
   "metadata": {},
   "outputs": [],
   "source": [
    "graph = Graph()"
   ]
  },
  {
   "cell_type": "code",
   "execution_count": 211,
   "id": "8941d107",
   "metadata": {},
   "outputs": [
    {
     "data": {
      "text/plain": [
       "True"
      ]
     },
     "execution_count": 211,
     "metadata": {},
     "output_type": "execute_result"
    }
   ],
   "source": [
    "graph.add_vertex('A')\n",
    "graph.add_vertex('B')\n",
    "graph.add_vertex('C')\n",
    "graph.add_vertex('D')"
   ]
  },
  {
   "cell_type": "code",
   "execution_count": 212,
   "id": "a519308a",
   "metadata": {},
   "outputs": [
    {
     "name": "stdout",
     "output_type": "stream",
     "text": [
      "A : []\n",
      "B : []\n",
      "C : []\n",
      "D : []\n"
     ]
    }
   ],
   "source": [
    "graph.print_graph()"
   ]
  },
  {
   "cell_type": "code",
   "execution_count": 213,
   "id": "bef0c71f",
   "metadata": {},
   "outputs": [
    {
     "data": {
      "text/plain": [
       "True"
      ]
     },
     "execution_count": 213,
     "metadata": {},
     "output_type": "execute_result"
    }
   ],
   "source": [
    "graph.add_edges('A','B')\n",
    "graph.add_edges('B','C')\n",
    "graph.add_edges('C','A')"
   ]
  },
  {
   "cell_type": "code",
   "execution_count": 214,
   "id": "f945f01c",
   "metadata": {},
   "outputs": [
    {
     "name": "stdout",
     "output_type": "stream",
     "text": [
      "A : ['B', 'C']\n",
      "B : ['A', 'C']\n",
      "C : ['B', 'A']\n",
      "D : []\n"
     ]
    }
   ],
   "source": [
    "graph.print_graph()"
   ]
  },
  {
   "cell_type": "code",
   "execution_count": 215,
   "id": "c187f819",
   "metadata": {},
   "outputs": [
    {
     "data": {
      "text/plain": [
       "True"
      ]
     },
     "execution_count": 215,
     "metadata": {},
     "output_type": "execute_result"
    }
   ],
   "source": [
    "graph.remove_edges('A','D')"
   ]
  },
  {
   "cell_type": "code",
   "execution_count": 216,
   "id": "bf691bd8",
   "metadata": {},
   "outputs": [
    {
     "name": "stdout",
     "output_type": "stream",
     "text": [
      "A : ['B', 'C']\n",
      "B : ['A', 'C']\n",
      "C : ['B', 'A']\n",
      "D : []\n"
     ]
    }
   ],
   "source": [
    "graph.print_graph()"
   ]
  },
  {
   "cell_type": "code",
   "execution_count": null,
   "id": "a710a0bb",
   "metadata": {},
   "outputs": [],
   "source": []
  },
  {
   "cell_type": "code",
   "execution_count": null,
   "id": "8c4dc2f8",
   "metadata": {},
   "outputs": [],
   "source": []
  }
 ],
 "metadata": {
  "kernelspec": {
   "display_name": "Python 3 (ipykernel)",
   "language": "python",
   "name": "python3"
  },
  "language_info": {
   "codemirror_mode": {
    "name": "ipython",
    "version": 3
   },
   "file_extension": ".py",
   "mimetype": "text/x-python",
   "name": "python",
   "nbconvert_exporter": "python",
   "pygments_lexer": "ipython3",
   "version": "3.9.13"
  }
 },
 "nbformat": 4,
 "nbformat_minor": 5
}
