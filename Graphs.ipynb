{
 "cells": [
  {
   "cell_type": "code",
   "execution_count": 11,
   "id": "b1f31636",
   "metadata": {},
   "outputs": [],
   "source": [
    "class Graph:\n",
    "    def __init__(self):\n",
    "        self.adj_lis = {}\n",
    "        \n",
    "    def print_graph(self):\n",
    "        for vertex in self.adj_lis:\n",
    "            print(vertex,':',self.adj_lis[vertex])        \n",
    "    \n",
    "    def add_vertex(self,vertex):\n",
    "        if vertex not in self.adj_lis.keys():\n",
    "            self.adj_lis[vertex] = []\n",
    "            return True\n",
    "        return False\n",
    "   \n",
    "    def add_edges(self,v1,v2):\n",
    "        if v1 in self.adj_lis.keys() and v2 in self.adj_lis.keys():\n",
    "            self.adj_lis[v1].append(v2)\n",
    "            self.adj_lis[v2].append(v1)\n",
    "            return True\n",
    "        return False\n",
    "    \n",
    "    def remove_edges(self,v1,v2):\n",
    "        if v1 in self.adj_lis.keys() and v2 in self.adj_lis.keys():\n",
    "            try:\n",
    "                self.adj_lis[v1].remove(v2)\n",
    "                self.adj_lis[v2].remove(v1)\n",
    "            except ValueError:\n",
    "                pass\n",
    "            return True\n",
    "        return False\n",
    "   \n",
    "    def remove_vertex(self,vertex):\n",
    "        if vertex in  self.adj_lis.keys():\n",
    "            for i in self.adj_lis[vertex]:\n",
    "                self.adj_lis[i].remove(vertex)\n",
    "            del self.adj_lis[vertex]\n",
    "            return True\n",
    "        return True"
   ]
  },
  {
   "cell_type": "code",
   "execution_count": 12,
   "id": "88ab60b8",
   "metadata": {},
   "outputs": [],
   "source": [
    "graph = Graph()"
   ]
  },
  {
   "cell_type": "code",
   "execution_count": 13,
   "id": "762b37da",
   "metadata": {},
   "outputs": [
    {
     "data": {
      "text/plain": [
       "True"
      ]
     },
     "execution_count": 13,
     "metadata": {},
     "output_type": "execute_result"
    }
   ],
   "source": [
    "graph.add_vertex('A')\n",
    "graph.add_vertex('B')\n",
    "graph.add_vertex('C')\n",
    "graph.add_vertex('D')"
   ]
  },
  {
   "cell_type": "code",
   "execution_count": 14,
   "id": "85d2f34f",
   "metadata": {},
   "outputs": [
    {
     "name": "stdout",
     "output_type": "stream",
     "text": [
      "A : []\n",
      "B : []\n",
      "C : []\n",
      "D : []\n"
     ]
    }
   ],
   "source": [
    "graph.print_graph()"
   ]
  },
  {
   "cell_type": "code",
   "execution_count": 15,
   "id": "cabcadf6",
   "metadata": {},
   "outputs": [
    {
     "data": {
      "text/plain": [
       "True"
      ]
     },
     "execution_count": 15,
     "metadata": {},
     "output_type": "execute_result"
    }
   ],
   "source": [
    "graph.add_edges('A','B')\n",
    "graph.add_edges('B','C')\n",
    "graph.add_edges('C','A')"
   ]
  },
  {
   "cell_type": "code",
   "execution_count": 16,
   "id": "c41aea9b",
   "metadata": {},
   "outputs": [
    {
     "name": "stdout",
     "output_type": "stream",
     "text": [
      "A : ['B', 'C']\n",
      "B : ['A', 'C']\n",
      "C : ['B', 'A']\n",
      "D : []\n"
     ]
    }
   ],
   "source": [
    "graph.print_graph()"
   ]
  },
  {
   "cell_type": "code",
   "execution_count": 17,
   "id": "b1cbd0ae",
   "metadata": {},
   "outputs": [
    {
     "data": {
      "text/plain": [
       "True"
      ]
     },
     "execution_count": 17,
     "metadata": {},
     "output_type": "execute_result"
    }
   ],
   "source": [
    "graph.remove_edges('A','D')"
   ]
  },
  {
   "cell_type": "code",
   "execution_count": 18,
   "id": "4f8e790a",
   "metadata": {},
   "outputs": [
    {
     "name": "stdout",
     "output_type": "stream",
     "text": [
      "A : ['B', 'C']\n",
      "B : ['A', 'C']\n",
      "C : ['B', 'A']\n",
      "D : []\n"
     ]
    }
   ],
   "source": [
    "graph.print_graph()"
   ]
  },
  {
   "cell_type": "code",
   "execution_count": 19,
   "id": "7b5a44d6",
   "metadata": {},
   "outputs": [
    {
     "data": {
      "text/plain": [
       "True"
      ]
     },
     "execution_count": 19,
     "metadata": {},
     "output_type": "execute_result"
    }
   ],
   "source": [
    "graph.remove_vertex(vertex='A')"
   ]
  },
  {
   "cell_type": "code",
   "execution_count": 20,
   "id": "6eae9c83",
   "metadata": {},
   "outputs": [
    {
     "name": "stdout",
     "output_type": "stream",
     "text": [
      "B : ['C']\n",
      "C : ['B']\n",
      "D : []\n"
     ]
    }
   ],
   "source": [
    "graph.print_graph()"
   ]
  },
  {
   "cell_type": "code",
   "execution_count": null,
   "id": "f59ecfdc",
   "metadata": {},
   "outputs": [],
   "source": []
  },
  {
   "cell_type": "code",
   "execution_count": null,
   "id": "cbf23091",
   "metadata": {},
   "outputs": [],
   "source": []
  }
 ],
 "metadata": {
  "kernelspec": {
   "display_name": "Python 3 (ipykernel)",
   "language": "python",
   "name": "python3"
  },
  "language_info": {
   "codemirror_mode": {
    "name": "ipython",
    "version": 3
   },
   "file_extension": ".py",
   "mimetype": "text/x-python",
   "name": "python",
   "nbconvert_exporter": "python",
   "pygments_lexer": "ipython3",
   "version": "3.9.13"
  }
 },
 "nbformat": 4,
 "nbformat_minor": 5
}
