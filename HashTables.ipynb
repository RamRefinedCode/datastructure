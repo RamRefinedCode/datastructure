{
 "cells": [
  {
   "cell_type": "code",
   "execution_count": 92,
   "id": "4b553d52",
   "metadata": {},
   "outputs": [],
   "source": [
    "class HashMaps:\n",
    "    def __init__(self,size=7):\n",
    "        self.data_map = [None] * size\n",
    "    \n",
    "    def __hash(self,key):\n",
    "        my_hash = 0\n",
    "        for letter in key:\n",
    "            my_hash = (my_hash + ord(letter)*23) % len(self.data_map)\n",
    "        return my_hash\n",
    "    \n",
    "    def set_items(self,key,value):\n",
    "        index = self.__hash(key)\n",
    "        if self.data_map[index] == None:\n",
    "            self.data_map[index] = []\n",
    "        self.data_map[index].append([key,value])\n",
    "    \n",
    "    def get_items(self,key):\n",
    "        index = self.__hash(key)\n",
    "        if self.data_map[index] is not None:\n",
    "            for i in range(len(self.data_map[index])):\n",
    "                if self.data_map[index][i][0] == key:\n",
    "                    return self.data_map[index][i][1]\n",
    "        return None        \n",
    "         \n",
    "    def print_table(self):\n",
    "        for i,value in enumerate(self.data_map):\n",
    "            print(i, \":\",value)"
   ]
  },
  {
   "cell_type": "code",
   "execution_count": 93,
   "id": "7e3891b8",
   "metadata": {},
   "outputs": [],
   "source": [
    "my_hash_table = HashMaps()\n",
    "my_hash_table.set_items('bolt',1400)\n",
    "my_hash_table.set_items('washers',50)\n",
    "my_hash_table.set_items('lumber',70)\n",
    "my_hash_table.set_items('cars',70)\n",
    "my_hash_table.set_items('bike',70)\n",
    "my_hash_table.set_items('four',70)"
   ]
  },
  {
   "cell_type": "code",
   "execution_count": 94,
   "id": "eee12aec",
   "metadata": {},
   "outputs": [
    {
     "name": "stdout",
     "output_type": "stream",
     "text": [
      "0 : None\n",
      "1 : None\n",
      "2 : None\n",
      "3 : [['cars', 70], ['bike', 70]]\n",
      "4 : [['washers', 50]]\n",
      "5 : [['bolt', 1400]]\n",
      "6 : [['lumber', 70], ['four', 70]]\n"
     ]
    }
   ],
   "source": [
    "my_hash_table.print_table()"
   ]
  },
  {
   "cell_type": "code",
   "execution_count": 95,
   "id": "c6dfa1eb",
   "metadata": {},
   "outputs": [
    {
     "name": "stdout",
     "output_type": "stream",
     "text": [
      "70\n"
     ]
    }
   ],
   "source": [
    "print(my_hash_table.get_items('cars'))"
   ]
  },
  {
   "cell_type": "code",
   "execution_count": 78,
   "id": "fad3e778",
   "metadata": {},
   "outputs": [
    {
     "data": {
      "text/plain": [
       "4"
      ]
     },
     "execution_count": 78,
     "metadata": {},
     "output_type": "execute_result"
    }
   ],
   "source": [
    "l = []\n",
    "l.append(['a',100])\n",
    "l.append(['b',200])\n",
    "l.append(['c',1000])\n",
    "l.append(None)\n",
    "len(l)"
   ]
  },
  {
   "cell_type": "code",
   "execution_count": null,
   "id": "1b6a7a9e",
   "metadata": {},
   "outputs": [],
   "source": []
  },
  {
   "cell_type": "code",
   "execution_count": null,
   "id": "1bc47b63",
   "metadata": {},
   "outputs": [],
   "source": []
  },
  {
   "cell_type": "code",
   "execution_count": null,
   "id": "799e274a",
   "metadata": {},
   "outputs": [],
   "source": []
  }
 ],
 "metadata": {
  "kernelspec": {
   "display_name": "Python 3 (ipykernel)",
   "language": "python",
   "name": "python3"
  },
  "language_info": {
   "codemirror_mode": {
    "name": "ipython",
    "version": 3
   },
   "file_extension": ".py",
   "mimetype": "text/x-python",
   "name": "python",
   "nbconvert_exporter": "python",
   "pygments_lexer": "ipython3",
   "version": "3.9.13"
  }
 },
 "nbformat": 4,
 "nbformat_minor": 5
}
