{
 "cells": [
  {
   "cell_type": "code",
   "execution_count": 6,
   "id": "a4ef9202",
   "metadata": {},
   "outputs": [],
   "source": [
    "def func_one():\n",
    "    func_two()\n",
    "    print('one')"
   ]
  },
  {
   "cell_type": "code",
   "execution_count": 7,
   "id": "3c1f8bcf",
   "metadata": {},
   "outputs": [],
   "source": [
    "def func_two():\n",
    "    func_three()\n",
    "    print('two')"
   ]
  },
  {
   "cell_type": "code",
   "execution_count": 8,
   "id": "c4281f80",
   "metadata": {},
   "outputs": [],
   "source": [
    "def func_three():\n",
    "    print('three')"
   ]
  },
  {
   "cell_type": "code",
   "execution_count": 9,
   "id": "45d10626",
   "metadata": {},
   "outputs": [
    {
     "name": "stdout",
     "output_type": "stream",
     "text": [
      "three\n",
      "two\n",
      "one\n"
     ]
    }
   ],
   "source": [
    "func_one()"
   ]
  },
  {
   "cell_type": "code",
   "execution_count": null,
   "id": "67fe6821",
   "metadata": {},
   "outputs": [],
   "source": []
  }
 ],
 "metadata": {
  "kernelspec": {
   "display_name": "Python 3 (ipykernel)",
   "language": "python",
   "name": "python3"
  },
  "language_info": {
   "codemirror_mode": {
    "name": "ipython",
    "version": 3
   },
   "file_extension": ".py",
   "mimetype": "text/x-python",
   "name": "python",
   "nbconvert_exporter": "python",
   "pygments_lexer": "ipython3",
   "version": "3.9.13"
  }
 },
 "nbformat": 4,
 "nbformat_minor": 5
}
