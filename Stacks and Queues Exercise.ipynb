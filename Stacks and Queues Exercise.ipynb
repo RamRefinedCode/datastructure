{
 "cells": [
  {
   "cell_type": "code",
   "execution_count": 72,
   "id": "c6a5a253",
   "metadata": {},
   "outputs": [],
   "source": [
    "# Implement Stack Using a List\n",
    "class Stack:\n",
    "    def __init__(self):\n",
    "        self.stack_list = []\n",
    "        \n",
    "    def print_stack(self):\n",
    "        for i in range(len(self.stack_list)-1, -1, -1):\n",
    "            print(self.stack_list[i])\n",
    "            \n",
    "    def size(self):\n",
    "        return len(self.stack_list)\n",
    "    \n",
    "    def is_empty(self):\n",
    "        return len(self.stack_list) == 0\n",
    "    \n",
    "    def push(self,value):\n",
    "        self.stack_list.append(value)\n",
    "    \n",
    "    def pop(self):\n",
    "        if self.is_empty():\n",
    "            return None\n",
    "        return self.stack_list[-1]"
   ]
  },
  {
   "cell_type": "code",
   "execution_count": 73,
   "id": "98256635",
   "metadata": {},
   "outputs": [],
   "source": [
    "stack = Stack()"
   ]
  },
  {
   "cell_type": "code",
   "execution_count": 74,
   "id": "99bba03f",
   "metadata": {},
   "outputs": [
    {
     "data": {
      "text/plain": [
       "3"
      ]
     },
     "execution_count": 74,
     "metadata": {},
     "output_type": "execute_result"
    }
   ],
   "source": [
    "stack.stack_list = [1,2,3]\n",
    "stack.is_empty()\n",
    "stack.size()"
   ]
  },
  {
   "cell_type": "code",
   "execution_count": 75,
   "id": "b4cad567",
   "metadata": {},
   "outputs": [],
   "source": [
    "stack.push(4)"
   ]
  },
  {
   "cell_type": "code",
   "execution_count": 76,
   "id": "c2bfe7dd",
   "metadata": {},
   "outputs": [
    {
     "name": "stdout",
     "output_type": "stream",
     "text": [
      "4\n",
      "3\n",
      "2\n",
      "1\n"
     ]
    }
   ],
   "source": [
    "stack.print_stack()"
   ]
  },
  {
   "cell_type": "code",
   "execution_count": 62,
   "id": "8667a302",
   "metadata": {},
   "outputs": [
    {
     "data": {
      "text/plain": [
       "3"
      ]
     },
     "execution_count": 62,
     "metadata": {},
     "output_type": "execute_result"
    }
   ],
   "source": [
    "stack.pop()"
   ]
  },
  {
   "cell_type": "code",
   "execution_count": 34,
   "id": "dbaada87",
   "metadata": {},
   "outputs": [
    {
     "name": "stdout",
     "output_type": "stream",
     "text": [
      "[6, 5, 4, 3, 2, 1]\n"
     ]
    }
   ],
   "source": [
    "lis =[1,2,3,4,5,6]\n",
    "new = []\n",
    "for i in range(len(lis)-1,-1,-1):\n",
    "    new.append(lis[i])\n",
    "print(new)    "
   ]
  },
  {
   "cell_type": "code",
   "execution_count": 64,
   "id": "25536250",
   "metadata": {},
   "outputs": [
    {
     "data": {
      "text/plain": [
       "[6, 5, 4, 3, 2, 1]"
      ]
     },
     "execution_count": 64,
     "metadata": {},
     "output_type": "execute_result"
    }
   ],
   "source": [
    "lis1 = lis[::-1]\n",
    "lis1"
   ]
  },
  {
   "cell_type": "code",
   "execution_count": 84,
   "id": "d6bdb12b",
   "metadata": {},
   "outputs": [
    {
     "name": "stdout",
     "output_type": "stream",
     "text": [
      "['o', 'l', 'l', 'e', 'h']\n"
     ]
    }
   ],
   "source": [
    "string = []\n",
    "for i in range(len(w)-1,-1,-1):\n",
    "    string.append(w[i])\n",
    "print(string)    "
   ]
  },
  {
   "cell_type": "code",
   "execution_count": 85,
   "id": "0054922d",
   "metadata": {},
   "outputs": [
    {
     "data": {
      "text/plain": [
       "('olleh', 5)"
      ]
     },
     "execution_count": 85,
     "metadata": {},
     "output_type": "execute_result"
    }
   ],
   "source": [
    "w = \"hello\"\n",
    "w[::-1],len(w)"
   ]
  },
  {
   "cell_type": "code",
   "execution_count": null,
   "id": "28fd9caf",
   "metadata": {},
   "outputs": [],
   "source": []
  }
 ],
 "metadata": {
  "kernelspec": {
   "display_name": "Python 3 (ipykernel)",
   "language": "python",
   "name": "python3"
  },
  "language_info": {
   "codemirror_mode": {
    "name": "ipython",
    "version": 3
   },
   "file_extension": ".py",
   "mimetype": "text/x-python",
   "name": "python",
   "nbconvert_exporter": "python",
   "pygments_lexer": "ipython3",
   "version": "3.9.13"
  }
 },
 "nbformat": 4,
 "nbformat_minor": 5
}
