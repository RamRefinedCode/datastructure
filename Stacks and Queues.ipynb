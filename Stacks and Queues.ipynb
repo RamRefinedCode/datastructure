{
 "cells": [
  {
   "cell_type": "code",
   "execution_count": 13,
   "id": "07438da4",
   "metadata": {},
   "outputs": [],
   "source": [
    "class Node:\n",
    "    def __init__(self,value):\n",
    "        self.value = value\n",
    "        self.next = None\n",
    "\n",
    "        \n",
    "class Stack:\n",
    "    def __init__(self,value):\n",
    "        new_node = Node(value)\n",
    "        self.top = new_node\n",
    "        self.length = 1  \n",
    "    \n",
    "    def printlist(self):\n",
    "        temp = self.top\n",
    "        lis = []\n",
    "        while temp is not None:\n",
    "            lis.append(temp.value)\n",
    "            temp = temp.next\n",
    "        print(lis)\n",
    "    \n",
    "    def push(self,value):\n",
    "        new_node = Node(value)\n",
    "        if self.length == 0:\n",
    "            self.top = new_node\n",
    "        else:\n",
    "            new_node.next = self.top\n",
    "            self.top = new_node\n",
    "        self.length += 1    "
   ]
  },
  {
   "cell_type": "code",
   "execution_count": 14,
   "id": "66c5dce6",
   "metadata": {},
   "outputs": [
    {
     "name": "stdout",
     "output_type": "stream",
     "text": [
      "[3, 2, 1]\n"
     ]
    }
   ],
   "source": [
    "stack = Stack(1)\n",
    "stack.push(2)\n",
    "stack.push(3)\n",
    "stack.printlist()"
   ]
  },
  {
   "cell_type": "code",
   "execution_count": null,
   "id": "d5fdedc5",
   "metadata": {},
   "outputs": [],
   "source": []
  }
 ],
 "metadata": {
  "kernelspec": {
   "display_name": "Python 3 (ipykernel)",
   "language": "python",
   "name": "python3"
  },
  "language_info": {
   "codemirror_mode": {
    "name": "ipython",
    "version": 3
   },
   "file_extension": ".py",
   "mimetype": "text/x-python",
   "name": "python",
   "nbconvert_exporter": "python",
   "pygments_lexer": "ipython3",
   "version": "3.9.13"
  }
 },
 "nbformat": 4,
 "nbformat_minor": 5
}
