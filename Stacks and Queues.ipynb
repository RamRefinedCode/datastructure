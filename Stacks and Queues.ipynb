{
 "cells": [
  {
   "cell_type": "code",
   "execution_count": 15,
   "id": "07438da4",
   "metadata": {},
   "outputs": [],
   "source": [
    "class Node:\n",
    "    def __init__(self,value):\n",
    "        self.value = value\n",
    "        self.next = None\n",
    "\n",
    "        \n",
    "class Stack:\n",
    "    def __init__(self,value):\n",
    "        new_node = Node(value)\n",
    "        self.top = new_node\n",
    "        self.length = 1  \n",
    "    \n",
    "    def printlist(self):\n",
    "        temp = self.top\n",
    "        lis = []\n",
    "        while temp is not None:\n",
    "            lis.append(temp.value)\n",
    "            temp = temp.next\n",
    "        print(lis)\n",
    "    \n",
    "    def push(self,value):\n",
    "        new_node = Node(value)\n",
    "        if self.length == 0:\n",
    "            self.top = new_node\n",
    "        else:\n",
    "            new_node.next = self.top\n",
    "            self.top = new_node\n",
    "        self.length += 1\n",
    "   \n",
    "    def pop(self):\n",
    "        if self.length == 0:\n",
    "            return None\n",
    "        temp = self.top\n",
    "        self.top = self.top.next\n",
    "        temp.next = None\n",
    "        self.length -= 1  \n",
    "        return temp.value"
   ]
  },
  {
   "cell_type": "code",
   "execution_count": 20,
   "id": "66c5dce6",
   "metadata": {},
   "outputs": [
    {
     "name": "stdout",
     "output_type": "stream",
     "text": [
      "[2, 1]\n"
     ]
    }
   ],
   "source": [
    "stack = Stack(1)\n",
    "stack.push(2)\n",
    "stack.push(3)\n",
    "stack.pop()\n",
    "stack.printlist()"
   ]
  },
  {
   "cell_type": "code",
   "execution_count": 26,
   "id": "d5fdedc5",
   "metadata": {},
   "outputs": [],
   "source": [
    "class Node:\n",
    "    def __init__(self,value):\n",
    "        self.value = value\n",
    "        self.next = None\n",
    "        \n",
    "        \n",
    "class Queues:\n",
    "    def __init__(self,value):\n",
    "        new_node = Node(value)\n",
    "        self.first = new_node\n",
    "        self.last = new_node\n",
    "        self.length = 1\n",
    "    \n",
    "    def printlist(self):\n",
    "        temp = self.first\n",
    "        lis = []\n",
    "        while temp is not None:\n",
    "            lis.append(temp.value)\n",
    "            temp = temp.next\n",
    "        print(lis)    \n",
    "        \n",
    "    \n",
    "    def enqueue(self,value):\n",
    "        new_node = Node(value)\n",
    "        if self.length == 0:\n",
    "            self.first = new_node\n",
    "            self.last = new_node\n",
    "        else:\n",
    "            self.last.next = new_node\n",
    "            self.last  =  new_node\n",
    "        self.length += 1\n",
    "        \n",
    "    def dequeue(self):\n",
    "        if self.length == 0:\n",
    "            return None\n",
    "        temp = self.first\n",
    "        if self.length == 1:\n",
    "            self.first = None\n",
    "            self.last = None\n",
    "        else:\n",
    "            self.first = self.first.next\n",
    "            temp.next = None\n",
    "        self.length -= 1\n",
    "        return temp.value"
   ]
  },
  {
   "cell_type": "code",
   "execution_count": 28,
   "id": "e44c2966",
   "metadata": {},
   "outputs": [
    {
     "name": "stdout",
     "output_type": "stream",
     "text": [
      "1\n",
      "[2, 3]\n"
     ]
    }
   ],
   "source": [
    "queues = Queues(1)\n",
    "queues.enqueue(2)\n",
    "queues.enqueue(3)\n",
    "print(queues.dequeue())\n",
    "queues.printlist()"
   ]
  },
  {
   "cell_type": "code",
   "execution_count": null,
   "id": "5430d479",
   "metadata": {},
   "outputs": [],
   "source": []
  }
 ],
 "metadata": {
  "kernelspec": {
   "display_name": "Python 3 (ipykernel)",
   "language": "python",
   "name": "python3"
  },
  "language_info": {
   "codemirror_mode": {
    "name": "ipython",
    "version": 3
   },
   "file_extension": ".py",
   "mimetype": "text/x-python",
   "name": "python",
   "nbconvert_exporter": "python",
   "pygments_lexer": "ipython3",
   "version": "3.9.13"
  }
 },
 "nbformat": 4,
 "nbformat_minor": 5
}
