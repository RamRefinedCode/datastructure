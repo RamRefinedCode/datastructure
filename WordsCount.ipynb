{
 "cells": [
  {
   "cell_type": "code",
   "execution_count": 14,
   "id": "ab83519c",
   "metadata": {},
   "outputs": [
    {
     "name": "stdout",
     "output_type": "stream",
     "text": [
      "{'c': 3, 'j': 3, 'w': 7, 'n': 1, 'k': 5, 'e': 2}\n"
     ]
    }
   ],
   "source": [
    "words = 'cjwwcnwkekweckwjkjwkw'\n",
    "count = {i:words.count(i) for i in words} \n",
    "print(count)"
   ]
  },
  {
   "cell_type": "code",
   "execution_count": 12,
   "id": "0786c1cb",
   "metadata": {},
   "outputs": [],
   "source": [
    "count1 ={}\n",
    "for word in words:\n",
    "    if word not in count1:\n",
    "        count1[word] = 1\n",
    "    else:\n",
    "        count1[word] = count1[word] + 1   "
   ]
  },
  {
   "cell_type": "code",
   "execution_count": 15,
   "id": "3206f29b",
   "metadata": {},
   "outputs": [
    {
     "name": "stdout",
     "output_type": "stream",
     "text": [
      "{'c': 3, 'j': 3, 'w': 7, 'n': 1, 'k': 5, 'e': 2}\n"
     ]
    }
   ],
   "source": [
    "print(count1)"
   ]
  },
  {
   "cell_type": "code",
   "execution_count": null,
   "id": "3f3ca7a5",
   "metadata": {},
   "outputs": [],
   "source": []
  },
  {
   "cell_type": "code",
   "execution_count": null,
   "id": "06591809",
   "metadata": {},
   "outputs": [],
   "source": []
  }
 ],
 "metadata": {
  "kernelspec": {
   "display_name": "Python 3 (ipykernel)",
   "language": "python",
   "name": "python3"
  },
  "language_info": {
   "codemirror_mode": {
    "name": "ipython",
    "version": 3
   },
   "file_extension": ".py",
   "mimetype": "text/x-python",
   "name": "python",
   "nbconvert_exporter": "python",
   "pygments_lexer": "ipython3",
   "version": "3.9.13"
  }
 },
 "nbformat": 4,
 "nbformat_minor": 5
}
