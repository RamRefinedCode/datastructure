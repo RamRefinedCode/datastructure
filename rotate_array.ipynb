{
 "cells": [
  {
   "cell_type": "code",
   "execution_count": null,
   "id": "23bd1d9e",
   "metadata": {},
   "outputs": [],
   "source": [
    "def rotate_array(array,k):\n",
    "    if len(array) == 0:\n",
    "        return []\n",
    "    k = k % len(array)\n",
    "    print(array)\n",
    "    temp = array[-k:]\n",
    "    for i in reversed(range(0,len(array)-k)):\n",
    "        array[i+k] = array[i]\n",
    "        print(array[i])\n",
    "    for i in range(len(temp)):\n",
    "        array[i] = temp[i]\n",
    "    return array\n",
    "\n",
    "\n",
    "print(rotate_array(array=[1,2,3,4,5],k=2)"
   ]
  }
 ],
 "metadata": {
  "kernelspec": {
   "display_name": "Python 3 (ipykernel)",
   "language": "python",
   "name": "python3"
  },
  "language_info": {
   "codemirror_mode": {
    "name": "ipython",
    "version": 3
   },
   "file_extension": ".py",
   "mimetype": "text/x-python",
   "name": "python",
   "nbconvert_exporter": "python",
   "pygments_lexer": "ipython3",
   "version": "3.9.13"
  }
 },
 "nbformat": 4,
 "nbformat_minor": 5
}
